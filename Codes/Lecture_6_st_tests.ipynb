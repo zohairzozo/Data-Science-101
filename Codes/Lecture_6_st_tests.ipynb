{
  "cells": [
    {
      "cell_type": "markdown",
      "metadata": {
        "id": "4LQsu07msu4K"
      },
      "source": [
        "# **1- Shapiro Wilko Test**"
      ]
    },
    {
      "cell_type": "markdown",
      "source": [
        "The Shapiro-Wilk test is a statistical test used to determine if a sample of data comes from a normally distributed population."
      ],
      "metadata": {
        "id": "jNgScv2QuQkB"
      }
    },
    {
      "cell_type": "code",
      "execution_count": null,
      "metadata": {
        "id": "TDZac0ghsu4M"
      },
      "outputs": [],
      "source": [
        "pip install scipy"
      ]
    },
    {
      "cell_type": "code",
      "execution_count": null,
      "metadata": {
        "id": "sNBTDItpsu4N"
      },
      "outputs": [],
      "source": [
        "from scipy.stats import shapiro\n",
        "data = [0.873, 2.817, 0.212, -0.945, -0.055, -1.436,\n",
        "        0.360,-1.478, -1.637, -1.869]\n",
        "stat, p = shapiro(data)\n",
        "print('stat= ',stat)\n",
        "print('p= ',p)\n",
        "print('stat=%.3f , p=%.3f' % (stat,p))"
      ]
    },
    {
      "cell_type": "code",
      "execution_count": null,
      "metadata": {
        "id": "wdvYsZ_9su4P"
      },
      "outputs": [],
      "source": [
        "#Example of the shapiro-wilko normality test\n",
        "\n",
        "from scipy.stats import shapiro\n",
        "data = [0.873, 2.187, -0.945, -0.055, -1.436, 0.360, -1.969]\n",
        "stat, p = shapiro(data)\n",
        "print( 'stat=%.3f, p=%.3f' % (stat,p))\n",
        "if p > 0.05:\n",
        "    print('probabilty Gausssian')\n",
        "else:\n",
        "    print('probabilty not Gausssian')\n"
      ]
    },
    {
      "cell_type": "code",
      "execution_count": null,
      "metadata": {
        "id": "d3zSrUjRsu4P"
      },
      "outputs": [],
      "source": [
        "import pandas as pd\n",
        "import numpy as np\n",
        "import seaborn as sns\n",
        "import matplotlib.pyplot as plt\n",
        "\n",
        "ks = sns.load_dataset('titanic')\n",
        "\n",
        "ks['age'].hist()"
      ]
    },
    {
      "cell_type": "code",
      "execution_count": null,
      "metadata": {
        "id": "bHaq8H-lsu4Q"
      },
      "outputs": [],
      "source": [
        "sns.boxplot(ks['age'])"
      ]
    },
    {
      "cell_type": "code",
      "execution_count": null,
      "metadata": {
        "id": "N8_pyIGwsu4Q"
      },
      "outputs": [],
      "source": [
        "sns.boxplot(ks['fare'])"
      ]
    },
    {
      "cell_type": "code",
      "execution_count": null,
      "metadata": {
        "id": "TU8KyFqysu4R"
      },
      "outputs": [],
      "source": [
        "# shapiro-wilko normality test\n",
        "\n",
        "from scipy.stats import shapiro\n",
        "stat, p = shapiro(ks['age'])\n",
        "print( 'stat=%.3f, p=%.3f' % (stat,p))\n",
        "if p > 0.05:\n",
        "    print('Data is normal')\n",
        "else:\n",
        "    print('Data is not normal')\n"
      ]
    },
    {
      "cell_type": "code",
      "execution_count": null,
      "metadata": {
        "id": "l1aNsPMlsu4R"
      },
      "outputs": [],
      "source": [
        "# shapiro-wilko normality test\n",
        "\n",
        "from scipy.stats import shapiro\n",
        "stat, p = shapiro(ks['fare'])\n",
        "print( 'stat=%.3f, p=%.3f' % (stat,p))\n",
        "if p > 0.05:\n",
        "    print('Data is normal')\n",
        "else:\n",
        "    print('Data is not normal')\n"
      ]
    },
    {
      "cell_type": "code",
      "execution_count": null,
      "metadata": {
        "id": "lSmudDYusu4S"
      },
      "outputs": [],
      "source": [
        "# shapiro-wilko normality test\n",
        "\n",
        "from scipy.stats import shapiro\n",
        "ks = ks.dropna()\n",
        "sns.boxplot(ks['fare'])\n",
        "stat, p = shapiro(ks['fare'])\n",
        "print( 'stat=%.3f, p=%.3f' % (stat,p))\n",
        "if p > 0.05:\n",
        "    print('Data is normal')\n",
        "else:\n",
        "    print('Data is not normal')\n"
      ]
    },
    {
      "cell_type": "markdown",
      "metadata": {
        "id": "lTMcQZ2Esu4S"
      },
      "source": [
        "#  **1- Correlation Test**\n",
        "### ***1- Pearson's Correlation Coefficient***"
      ]
    },
    {
      "cell_type": "markdown",
      "source": [
        "Pearson's Correlation Coefficient, often denoted as 'r', measures the strength and direction of a linear relationship between two continuous variables."
      ],
      "metadata": {
        "id": "u_vnS4Qsue2R"
      }
    },
    {
      "cell_type": "code",
      "execution_count": null,
      "metadata": {
        "id": "SiTomvknsu4T"
      },
      "outputs": [],
      "source": [
        "#Example 0f the Pearsons Correlation coefficient Test\n",
        "from scipy.stats import pearsonr\n",
        "data1 = [0.873, 2.876, -0.055, -1.478]\n",
        "data2 = [0.55, 2.58, -1.69, -0.85]\n",
        "stat, p =pearsonr(data1, data2)\n",
        "print( 'stat=%.3f, p=%.3f' % (stat,p))\n",
        "if p > 0.05:\n",
        "    print('Prbabilty Independent')\n",
        "else:\n",
        "    print('Prbabilty dependent')\n"
      ]
    },
    {
      "cell_type": "markdown",
      "metadata": {
        "id": "HD4594QKsu4T"
      },
      "source": [
        "### ***2- Spearman's Rank Correlation***"
      ]
    },
    {
      "cell_type": "markdown",
      "source": [
        "It measures the strength and direction (positive or negative) of the association, indicating whether higher ranks in one variable tend to correspond with higher or lower ranks in the othe."
      ],
      "metadata": {
        "id": "MfSqwxFgutrh"
      }
    },
    {
      "cell_type": "code",
      "execution_count": null,
      "metadata": {
        "id": "QDT3Xp4lsu4T"
      },
      "outputs": [],
      "source": [
        "#Example 0f the Spearmen's Rank Correlation Test\n",
        "from scipy.stats import spearmanr\n",
        "data1 = [0.873, 2.876, -0.055, -1.478]\n",
        "data2 = [0.55, 2.58, -1.69, -0.85]\n",
        "stat, p =spearmanr(data1, data2)\n",
        "print( 'stat=%.3f, p=%.3f' % (stat,p))\n",
        "if p > 0.05:\n",
        "    print('Prbabilty Independent')\n",
        "else:\n",
        "    print('Prbabilty dependent')\n"
      ]
    },
    {
      "cell_type": "code",
      "execution_count": null,
      "metadata": {
        "id": "baDuEaSBsu4U"
      },
      "outputs": [],
      "source": [
        "#Example 0f the Spearmen's Rank Correlation Test\n",
        "\n",
        "from scipy.stats import spearmanr\n",
        "ks.dropna()\n",
        "stat, p =spearmanr(ks['age'], ks['fare'])\n",
        "print( 'stat=%.3f, p=%.3f' % (stat,p))\n",
        "if p > 0.05:\n",
        "    print('Prbabilty Independent')\n",
        "else:\n",
        "    print('Prbabilty dependent')\n"
      ]
    },
    {
      "cell_type": "markdown",
      "metadata": {
        "id": "N-0CTc_nsu4U"
      },
      "source": [
        "### ***3- Chi-Squared Test***"
      ]
    },
    {
      "cell_type": "markdown",
      "source": [
        "it helps assess whether the differences observed in data are likely due to random chance or if there's a genuine relationship between the variables being studied."
      ],
      "metadata": {
        "id": "3SQcTHYxu-hP"
      }
    },
    {
      "cell_type": "code",
      "execution_count": null,
      "metadata": {
        "id": "uz3OPpAKsu4U"
      },
      "outputs": [],
      "source": [
        "#Example of Chi-squared test\n",
        "from scipy.stats import chi2_contingency\n",
        "table = [[10,20,30],[6,9,17]]\n",
        "stat, p, dof, expected = chi2_contingency(table)\n",
        "print( 'stat=%.3f, p=%.3f' % (stat,p))\n",
        "if p > 0.05:\n",
        "    print('Prbabilty Independent')\n",
        "else:\n",
        "    print('Prbabilty dependent')\n"
      ]
    },
    {
      "cell_type": "markdown",
      "metadata": {
        "id": "J1rB8uSmsu4V"
      },
      "source": [
        "# **3- Parametric Statistical Hypothesis Tests**\n",
        "### ***1- Student's t-test***"
      ]
    },
    {
      "cell_type": "markdown",
      "source": [],
      "metadata": {
        "id": "jauGn0A6vB16"
      }
    },
    {
      "cell_type": "code",
      "execution_count": null,
      "metadata": {
        "id": "avPjJsPKsu4V"
      },
      "outputs": [],
      "source": [
        "ks1 = sns.load_dataset('titanic')\n",
        "ks1.head()"
      ]
    },
    {
      "cell_type": "code",
      "execution_count": null,
      "metadata": {
        "id": "NDD6F6TRsu4V"
      },
      "outputs": [],
      "source": [
        "# Example of the Student's t-test\n",
        "\n",
        "from scipy.stats import ttest_ind\n",
        "data1 = ks1['age'].dropna()\n",
        "data2 = ks1['fare'].dropna()\n",
        "stat , p = ttest_ind(data1 ,data2)\n",
        "print( 'stat=%.3f, p=%.3f' % (stat,p))\n",
        "if p > 0.05:\n",
        "    print('Probably the same dataset')\n",
        "else:\n",
        "    print('Probably different dataset')\n"
      ]
    },
    {
      "cell_type": "markdown",
      "metadata": {
        "id": "jyEHs3AZsu4W"
      },
      "source": [
        "### ***2- Paired t-test***"
      ]
    },
    {
      "cell_type": "code",
      "execution_count": null,
      "metadata": {
        "id": "_H6Hef73su4W"
      },
      "outputs": [],
      "source": [
        "# Example of the Student's t-test\n",
        "\n",
        "from scipy.stats import ttest_rel\n",
        "data1 = [0.873, 2.876, -0.055, -1.478]\n",
        "data2 = [0.55, 2.58, -1.69, -0.85]\n",
        "stat , p = ttest_rel(data1 ,data2)\n",
        "print( 'stat=%.3f, p=%.3f' % (stat,p))\n",
        "if p > 0.05:\n",
        "    print('Prbably the same dataset')\n",
        "else:\n",
        "    print('Prbably different dataset')\n"
      ]
    },
    {
      "cell_type": "code",
      "execution_count": null,
      "metadata": {
        "id": "88VGXA9esu4W"
      },
      "outputs": [],
      "source": [
        "from scipy.stats import ttest_rel\n",
        "ks.dropna()\n",
        "data1 = ks1['age'].dropna()\n",
        "data2 = ks1['fare'].dropna()\n",
        "stat, p = ttest_ind(data1, data2)\n",
        "print( 'stat=%.3f, p=%.3f' % (stat,p))\n",
        "if p > 0.05:\n",
        "    print('Prbably the same distribution')\n",
        "else:\n",
        "    print('Prbably different distribution')"
      ]
    },
    {
      "cell_type": "markdown",
      "metadata": {
        "id": "1PX6_4Prsu4W"
      },
      "source": [
        "### ***3- ANOVA test***"
      ]
    },
    {
      "cell_type": "code",
      "execution_count": null,
      "metadata": {
        "id": "qDWBrPyVsu4X"
      },
      "outputs": [],
      "source": [
        "# Example of ANOVA Test\n",
        "\n",
        "from scipy.stats import f_oneway\n",
        "data1 = [0.873, 2.876, -0.055, -1.478]\n",
        "data2 = [0.55, 2.58, -1.69, -0.85]\n",
        "data3 = [2.61, 0.857, -0.987, -1.55]\n",
        "stat, p = f_oneway(data1, data2, data3)\n",
        "print( 'stat=%.3f, p=%.3f' % (stat,p))\n",
        "if p > 0.05:\n",
        "    print('Prbably the same distribution')\n",
        "else:\n",
        "    print('Prbably different distribution')"
      ]
    },
    {
      "cell_type": "code",
      "execution_count": null,
      "metadata": {
        "id": "a3UHc77Nsu4X"
      },
      "outputs": [],
      "source": [
        "from scipy.stats import f_oneway\n",
        "ks.dropna()\n",
        "data1 = ks1['age'].dropna()\n",
        "data2 = ks1['fare'].dropna()\n",
        "data3 = ks1['pclass'].dropna()\n",
        "stat, p = f_oneway(data1, data2, data3)\n",
        "print( 'stat=%.3f, p=%.3f' % (stat,p))\n",
        "if p > 0.05:\n",
        "    print('Prbably the same distribution')\n",
        "else:\n",
        "    print('Prbably different distribution')"
      ]
    }
  ],
  "metadata": {
    "kernelspec": {
      "display_name": "Python 3.10.2 64-bit",
      "language": "python",
      "name": "python3"
    },
    "language_info": {
      "codemirror_mode": {
        "name": "ipython",
        "version": 3
      },
      "file_extension": ".py",
      "mimetype": "text/x-python",
      "name": "python",
      "nbconvert_exporter": "python",
      "pygments_lexer": "ipython3",
      "version": "3.10.2"
    },
    "orig_nbformat": 4,
    "vscode": {
      "interpreter": {
        "hash": "0e90e6f2b77057d595c19a33564a8832df013bc876605d91583eebe5ceda9acc"
      }
    },
    "colab": {
      "provenance": []
    }
  },
  "nbformat": 4,
  "nbformat_minor": 0
}