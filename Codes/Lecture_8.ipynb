{
  "cells": [
    {
      "cell_type": "markdown",
      "metadata": {
        "id": "VWmGCgT83P_l"
      },
      "source": [
        "# Four dimension for EDA"
      ]
    },
    {
      "cell_type": "markdown",
      "metadata": {
        "id": "2xY9H7_e3P_o"
      },
      "source": [
        "1. Composition\n",
        "2. Distribution\n",
        "3. Comparison\n",
        "4. Relationship"
      ]
    },
    {
      "cell_type": "code",
      "execution_count": null,
      "metadata": {
        "id": "g7BP3iQ63P_r"
      },
      "outputs": [],
      "source": [
        "# import library\n",
        "import pandas as pd\n",
        "import numpy as np\n",
        "import matplotlib.pyplot as plt\n",
        "import seaborn as sns"
      ]
    },
    {
      "cell_type": "code",
      "execution_count": null,
      "metadata": {
        "id": "C64LLSV73P_u"
      },
      "outputs": [],
      "source": [
        "# load the data\n",
        "df = sns.load_dataset('titanic')\n",
        "df.head()"
      ]
    },
    {
      "cell_type": "markdown",
      "metadata": {
        "id": "340-FLg63P_w"
      },
      "source": [
        "# Composition"
      ]
    },
    {
      "cell_type": "code",
      "execution_count": null,
      "metadata": {
        "id": "8dO3PTGQ3P_w"
      },
      "outputs": [],
      "source": [
        "df.shape\n",
        "# print the number of rows and columns using f string\n",
        "print(f\"No. of Rows: {df.shape[0]}\\nNo. of Columns: {df.shape[1]}\")\n"
      ]
    },
    {
      "cell_type": "code",
      "execution_count": null,
      "metadata": {
        "id": "tP-IlX-V3P_x"
      },
      "outputs": [],
      "source": [
        "df.info()"
      ]
    },
    {
      "cell_type": "code",
      "execution_count": null,
      "metadata": {
        "id": "F8VNl7ka3P_y"
      },
      "outputs": [],
      "source": [
        "df.dtypes"
      ]
    },
    {
      "cell_type": "code",
      "execution_count": null,
      "metadata": {
        "id": "UKp_CrG03P_z"
      },
      "outputs": [],
      "source": [
        "df.head()\n",
        "df['sex'].value_counts()"
      ]
    },
    {
      "cell_type": "code",
      "execution_count": null,
      "metadata": {
        "id": "ZQvZnG_M3P_z"
      },
      "outputs": [],
      "source": [
        "# total number of rows\n",
        "len(df)"
      ]
    },
    {
      "cell_type": "code",
      "execution_count": null,
      "metadata": {
        "id": "ipSk3wPw3P_0"
      },
      "outputs": [],
      "source": [
        "# find values count percentage for sex column\n",
        "# df[\"sex\"].value_counts() / len(df) * 100\n",
        "# round the percentage to 2 decimal places\n",
        "# round(number, decimal places)\n",
        "round(df[\"sex\"].value_counts() / len(df) * 100, 2)"
      ]
    },
    {
      "cell_type": "code",
      "execution_count": null,
      "metadata": {
        "id": "Cjmcaspl3P_1"
      },
      "outputs": [],
      "source": [
        "class_counts = round(df[\"class\"].value_counts() / len(df) * 100, 2)\n",
        "# sort the values in descending order\n",
        "class_counts.sort_values(ascending=False)"
      ]
    },
    {
      "cell_type": "code",
      "execution_count": null,
      "metadata": {
        "id": "DmsI5BC93P_2"
      },
      "outputs": [],
      "source": [
        "# find the value counts in percentage for class where sex == female\n",
        "df_females = df[df[\"sex\"]==\"female\"]\n",
        "df_females[\"class\"].value_counts() / len(df) * 100"
      ]
    },
    {
      "cell_type": "code",
      "execution_count": null,
      "metadata": {
        "id": "0Q2ePOz33P_2"
      },
      "outputs": [],
      "source": [
        "# group by class and find the percentage of each class for sex column\n",
        "df.groupby(['sex', 'class']).size() / len(df) * 100\n",
        "round(df.groupby(['sex', 'class']).size() / len(df) * 100, 2).sort_values(ascending=False)"
      ]
    },
    {
      "cell_type": "code",
      "execution_count": null,
      "metadata": {
        "id": "81BvXuP63P_3"
      },
      "outputs": [],
      "source": [
        "round(df.groupby(['sex', 'class', 'embarked']).size() / len(df) * 100, 2)"
      ]
    },
    {
      "cell_type": "code",
      "execution_count": null,
      "metadata": {
        "id": "pjVA1CrY3P_4"
      },
      "outputs": [],
      "source": [
        "round(df.groupby(['sex', 'class', 'embarked', 'fare']).size() / len(df) * 100, 2)"
      ]
    },
    {
      "cell_type": "code",
      "execution_count": null,
      "metadata": {
        "id": "UmIxd0j33P_4"
      },
      "outputs": [],
      "source": [
        "df['sex'].describe()"
      ]
    },
    {
      "cell_type": "markdown",
      "metadata": {
        "id": "Uaf6SgGw3P_5"
      },
      "source": [
        "# Distribution"
      ]
    },
    {
      "cell_type": "code",
      "execution_count": null,
      "metadata": {
        "id": "jNRLxxgw3P_5"
      },
      "outputs": [],
      "source": [
        "df[\"age\"].describe()"
      ]
    },
    {
      "cell_type": "code",
      "execution_count": null,
      "metadata": {
        "id": "p-qrzaEj3P_6"
      },
      "outputs": [],
      "source": [
        "df['age'].plot(kind='hist')"
      ]
    },
    {
      "cell_type": "code",
      "execution_count": null,
      "metadata": {
        "id": "FB2BotjG3P_6"
      },
      "outputs": [],
      "source": [
        "df['age'].describe()"
      ]
    },
    {
      "cell_type": "code",
      "execution_count": null,
      "metadata": {
        "id": "RNvMIJrq3P_7"
      },
      "outputs": [],
      "source": [
        "df['fare'].plot(kind='hist')"
      ]
    },
    {
      "cell_type": "code",
      "source": [
        "df['age'].plot(kind='box')"
      ],
      "metadata": {
        "id": "C2SOKLtM4DrI"
      },
      "execution_count": null,
      "outputs": []
    },
    {
      "cell_type": "code",
      "execution_count": null,
      "metadata": {
        "id": "QX94l-u93P_7"
      },
      "outputs": [],
      "source": [
        "df['age'].skew()"
      ]
    },
    {
      "cell_type": "code",
      "execution_count": null,
      "metadata": {
        "id": "25Nz_PHR3P_8"
      },
      "outputs": [],
      "source": [
        "df['fare'].skew()"
      ]
    },
    {
      "cell_type": "markdown",
      "metadata": {
        "id": "C0G76mEx3P_9"
      },
      "source": [
        "# Comparison"
      ]
    },
    {
      "cell_type": "code",
      "execution_count": null,
      "metadata": {
        "id": "TJFLTYvy3P_9"
      },
      "outputs": [],
      "source": [
        "df.groupby(['sex', 'who', 'class'])['survived'].mean() #survival rate by gender"
      ]
    },
    {
      "cell_type": "code",
      "execution_count": null,
      "metadata": {
        "id": "X4yIzX_s3P_-"
      },
      "outputs": [],
      "source": [
        "df.groupby(['who'])['survived'].mean().plot(kind='bar', title='Survival rate plot', color='green')"
      ]
    },
    {
      "cell_type": "markdown",
      "source": [
        "# Survival Rate Report\n",
        "\n",
        "\n",
        "*   The category that belong to child had a survival rate of around 60%.\n",
        "*   Sab se zyada survival rate women ka tha, jo ke numbers mei greator then 70% tha.\n",
        "\n",
        "\n",
        "\n",
        "\n",
        "\n",
        "\n",
        "\n"
      ],
      "metadata": {
        "id": "X5hq68R97kqv"
      }
    },
    {
      "cell_type": "markdown",
      "metadata": {
        "id": "0rOALNRI3P__"
      },
      "source": [
        "# Relationship"
      ]
    },
    {
      "cell_type": "code",
      "execution_count": null,
      "metadata": {
        "id": "q4Bu4pzW3P__"
      },
      "outputs": [],
      "source": [
        "# creata a correlation matrix only on int and float data from df\n",
        "df[['age', 'fare']].corr()"
      ]
    },
    {
      "cell_type": "code",
      "execution_count": null,
      "metadata": {
        "id": "GiejjOTE3QAA"
      },
      "outputs": [],
      "source": [
        "df.groupby('survived')[['age', \"fare\"]].mean()"
      ]
    },
    {
      "cell_type": "code",
      "source": [
        "sns.scatterplot(x='age', y='fare', data=df, hue='class')"
      ],
      "metadata": {
        "id": "NpOHKI1M5vV2"
      },
      "execution_count": null,
      "outputs": []
    },
    {
      "cell_type": "code",
      "source": [],
      "metadata": {
        "id": "Tn825zkW51TC"
      },
      "execution_count": null,
      "outputs": []
    }
  ],
  "metadata": {
    "kernelspec": {
      "display_name": "data_analysis",
      "language": "python",
      "name": "python3"
    },
    "language_info": {
      "codemirror_mode": {
        "name": "ipython",
        "version": 3
      },
      "file_extension": ".py",
      "mimetype": "text/x-python",
      "name": "python",
      "nbconvert_exporter": "python",
      "pygments_lexer": "ipython3",
      "version": "3.10.0"
    },
    "colab": {
      "provenance": []
    }
  },
  "nbformat": 4,
  "nbformat_minor": 0
}