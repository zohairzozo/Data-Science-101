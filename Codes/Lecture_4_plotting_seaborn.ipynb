{
  "cells": [
    {
      "cell_type": "markdown",
      "metadata": {
        "id": "AxLLQymWk9PI"
      },
      "source": [
        "# Seaborn and plotting"
      ]
    },
    {
      "cell_type": "code",
      "execution_count": null,
      "metadata": {
        "id": "6-ca7Fbwk9PK"
      },
      "outputs": [],
      "source": [
        "# import libraries\n",
        "import pandas as pd\n",
        "import matplotlib.pyplot as plt\n",
        "import seaborn as sns"
      ]
    },
    {
      "cell_type": "markdown",
      "metadata": {
        "id": "bSfHXiXdk9PL"
      },
      "source": [
        "### Important things for Plotting according to grammar of graphics\n",
        "\n",
        "1. Data (df)\n",
        "2. Types of plot?\n",
        "3. x axis\n",
        "4. y axis\n",
        "5. grouping (hue/color) based on categorical variable\n",
        "6. Size of the plot\n",
        "7. Color palletes of the plot\n",
        "8. Style of the plot\n",
        "9. How do you interpret"
      ]
    },
    {
      "cell_type": "code",
      "source": [
        "sns.get_dataset_names()"
      ],
      "metadata": {
        "id": "a9adtHgjlDSr"
      },
      "execution_count": null,
      "outputs": []
    },
    {
      "cell_type": "code",
      "execution_count": null,
      "metadata": {
        "id": "XXmAi4CEk9PL"
      },
      "outputs": [],
      "source": [
        "# Data Load\n",
        "df = sns.load_dataset('titanic')"
      ]
    },
    {
      "cell_type": "code",
      "source": [
        "df.head()"
      ],
      "metadata": {
        "id": "hP9D5TwYq9Vo"
      },
      "execution_count": null,
      "outputs": []
    },
    {
      "cell_type": "code",
      "source": [
        "891-714"
      ],
      "metadata": {
        "id": "EWOeY0-XrbUK"
      },
      "execution_count": null,
      "outputs": []
    },
    {
      "cell_type": "code",
      "execution_count": null,
      "metadata": {
        "id": "HUM38UOWk9PL"
      },
      "outputs": [],
      "source": [
        "df.info()"
      ]
    },
    {
      "cell_type": "code",
      "execution_count": null,
      "metadata": {
        "id": "iYUrrc75k9PM"
      },
      "outputs": [],
      "source": [
        "# scatter plot\n",
        "sns.scatterplot(data = df, x = 'age', y='fare', hue = 'sex')"
      ]
    },
    {
      "cell_type": "code",
      "execution_count": null,
      "metadata": {
        "id": "0LcQ4v6Hk9PN"
      },
      "outputs": [],
      "source": [
        "# scatter plot\n",
        "# scatter plto size of figure size\n",
        "plt.figure(figsize=(12,8)) # a4 page size 16:9\n",
        "sns.scatterplot(data = df, x = 'age', y='fare', hue = 'sex')"
      ]
    },
    {
      "cell_type": "code",
      "execution_count": null,
      "metadata": {
        "id": "l2vpRv_7k9PN"
      },
      "outputs": [],
      "source": [
        "# scatter plot\n",
        "# scatter plot size of figure size\n",
        "plt.figure(figsize=(8,4)) # a4 page size 16:9\n",
        "\n",
        "# change the scatter point colors\n",
        "palette = {'male': 'green', 'female': 'red'}\n",
        "sns.scatterplot(data=df, x='age', y='fare', hue='sex', palette=palette)\n",
        "# labels\n",
        "plt.xlabel('jitne bande mare the unki age')\n",
        "plt.ylabel('marne walo ne kitne paise diye the')\n",
        "plt.title('Scatter Plot of Age vs Fare')\n"
      ]
    },
    {
      "cell_type": "code",
      "execution_count": null,
      "metadata": {
        "id": "R_3kYqPnk9PN"
      },
      "outputs": [],
      "source": [
        "# scatter plot\n",
        "# scatter plot size of figure size\n",
        "plt.figure(figsize=(8,4)) # a4 page size 16:9\n",
        "\n",
        "# change the scatter point colors\n",
        "palette = {'male': 'green', 'female': 'red'}\n",
        "sns.scatterplot(data=df, x='age', y='fare', hue='sex', palette=palette)\n",
        "# labels\n",
        "plt.xlabel('Age')\n",
        "plt.ylabel('Fare')\n",
        "plt.title('Scatter Plot of Age vs Fare')\n",
        "\n",
        "# saving a plot 300dpi, 600dpi, 150dpi png\n",
        "plt.savefig('./outputs/plots/scatter_plot_zz.png', dpi=300)\n",
        "\n",
        "# saving a plot in vector file such as svg\n",
        "plt.savefig('./outputs/plots/scatter_plot_zz.svg')\n"
      ]
    },
    {
      "cell_type": "code",
      "execution_count": null,
      "metadata": {
        "id": "mkMB2VLrk9PO"
      },
      "outputs": [],
      "source": [
        "# style of a plot\n",
        "sns.set_theme(style='darkgrid', font_scale=1.5, font='Times New Roman')\n",
        "# scatter plot size of figure size\n",
        "plt.figure(figsize=(16,6)) # a4 page size 16:9\n",
        "\n",
        "# change the scatter point colors\n",
        "palette = {'male': 'green', 'female': 'red'}\n",
        "sns.scatterplot(data=df, x='age', y='fare', hue='sex', size='fare', palette=palette)\n",
        "# labels\n",
        "plt.xlabel('Age')\n",
        "plt.ylabel('Fare')\n",
        "plt.title('Scatter Plot of Age vs Fare')\n"
      ]
    },
    {
      "cell_type": "markdown",
      "metadata": {
        "id": "sC49K1uvk9PO"
      },
      "source": [
        "Interpertation:\n",
        "1. We have Age of passengers at x-axis and fare at y-axis\n",
        "2. The scatter plot shows the relationship between age and fare of titanic passengers.\n",
        "3. We further grouped the passenger by their genders such as male (Green points) and female (Red points).\n",
        "4. Twpo male passengers gave the highest fare in titanic, and they might be travelling first class.\n",
        "5. The olderst person at titanic is also a male having 80 years of age as shown in the scatter plot. (As shown in Figure. 1)."
      ]
    },
    {
      "cell_type": "markdown",
      "metadata": {
        "id": "CGeF9qoqk9PO"
      },
      "source": [
        "# Box plot"
      ]
    },
    {
      "cell_type": "code",
      "execution_count": null,
      "metadata": {
        "id": "PpPUtHiik9PP"
      },
      "outputs": [],
      "source": [
        "df['class'].unique()"
      ]
    },
    {
      "cell_type": "code",
      "execution_count": null,
      "metadata": {
        "id": "ITgK09gdk9PP"
      },
      "outputs": [],
      "source": [
        "# style of a plot\n",
        "sns.set_theme(style='darkgrid', font_scale=1, font='Times New Roman')\n",
        "# scatter plot size of figure size\n",
        "plt.figure(figsize=(12,6)) # a4 page size 16:9\n",
        "\n",
        "# change the scatter point colors\n",
        "palette = {'First': 'green', 'Second': 'red', 'Third': 'blue'}\n",
        "sns.boxplot(data=df, x='sex', y='age', hue='class', palette=palette)\n",
        "# labels\n",
        "plt.xlabel('Gender')\n",
        "plt.ylabel('Age')\n",
        "plt.title('Box plot of Age, based on Gender and Class Name of Passengers')\n",
        "\n",
        "# change legend position and title\n",
        "plt.legend(loc='upper right', title='Class Name')\n"
      ]
    },
    {
      "cell_type": "code",
      "execution_count": null,
      "metadata": {
        "id": "w5k-eCqVk9PP"
      },
      "outputs": [],
      "source": [
        "# style of a plot\n",
        "sns.set_theme(style='darkgrid', font_scale=1, font='Times New Roman')\n",
        "# scatter plot size of figure size\n",
        "plt.figure(figsize=(12,6)) # a4 page size 16:9\n",
        "\n",
        "# change the scatter point colors\n",
        "palette = {'First': 'green', 'Second': 'red', 'Third': 'blue'}\n",
        "sns.boxenplot(data=df, x='sex', y='age', hue='class', palette=palette)\n",
        "# labels\n",
        "plt.xlabel('Gender')\n",
        "plt.ylabel('Age')\n",
        "plt.title('Boxen plot of Age, based on Gender and Class Name of Passengers')\n",
        "\n",
        "# change legend position and title\n",
        "plt.legend(loc='upper right', title='Class Name')\n",
        "\n",
        "# change the x-ticks names\n",
        "plt.xticks(ticks=[0, 1], labels=[\"Male\", \"Female\"], rotation=0)\n",
        "\n"
      ]
    },
    {
      "cell_type": "code",
      "execution_count": null,
      "metadata": {
        "id": "Qyni9NN1k9PQ"
      },
      "outputs": [],
      "source": [
        "# bar plot using seaborn\n",
        "\n",
        "# style of a plot\n",
        "sns.set_theme(style='darkgrid', font_scale=1, font='Times New Roman')\n",
        "# scatter plot size of figure size\n",
        "plt.figure(figsize=(12,6)) # a4 page size 16:9\n",
        "\n",
        "# change the scatter point colors\n",
        "palette = {'First': 'green', 'Second': 'red', 'Third': 'blue'}\n",
        "sns.barplot(data=df, x='sex', y='age', hue='class', palette=palette, capsize=0.1)\n",
        "# labels\n",
        "plt.xlabel('Gender')\n",
        "plt.ylabel('Age')\n",
        "plt.title('Bar plot of Age, based on Gender and Class Name of Passengers')\n",
        "\n",
        "# change legend position and title\n",
        "plt.legend(loc='upper right', title='Class Name')\n",
        "\n",
        "# change the x-ticks names\n",
        "plt.xticks(ticks=[0, 1], labels=[\"Male\", \"Female\"], rotation=0)\n"
      ]
    },
    {
      "cell_type": "code",
      "execution_count": null,
      "metadata": {
        "id": "co5mNIWEk9PQ"
      },
      "outputs": [],
      "source": [
        "# bar plot using seaborn\n",
        "\n",
        "# style of a plot\n",
        "sns.set_theme(style='darkgrid', font_scale=1, font='Times New Roman')\n",
        "# scatter plot size of figure size\n",
        "plt.figure(figsize=(12,6)) # a4 page size 16:9\n",
        "\n",
        "# change the scatter point colors\n",
        "palette = {'First': 'green', 'Second': 'red', 'Third': 'blue'}\n",
        "sns.violinplot(data=df, x='sex', y='age', hue='class', palette=palette)\n",
        "# labels\n",
        "plt.xlabel('Gender')\n",
        "plt.ylabel('Age')\n",
        "plt.title('Bar plot of Age, based on Gender and Class Name of Passengers')\n",
        "\n",
        "# change legend position and title\n",
        "plt.legend(loc='upper right', title='Class Name')\n",
        "\n",
        "# change the x-ticks names\n",
        "plt.xticks(ticks=[0, 1], labels=[\"Male\", \"Female\"], rotation=0)\n"
      ]
    },
    {
      "cell_type": "code",
      "source": [
        "import seaborn as sns\n",
        "sns.set_theme(style=\"whitegrid\")\n",
        "\n",
        "sns.boxenplot(data= df, x=\"sex\", y=\"age\",\n",
        "    color=\"r\",width_method=\"linear\", hue=\"class\"\n",
        ")\n",
        "plt.legend(loc='upper right', title='Class Name')\n",
        "plt.show()\n"
      ],
      "metadata": {
        "id": "kzk6NYKyvXlE"
      },
      "execution_count": null,
      "outputs": []
    }
  ],
  "metadata": {
    "kernelspec": {
      "display_name": "python_eda",
      "language": "python",
      "name": "python3"
    },
    "language_info": {
      "codemirror_mode": {
        "name": "ipython",
        "version": 3
      },
      "file_extension": ".py",
      "mimetype": "text/x-python",
      "name": "python",
      "nbconvert_exporter": "python",
      "pygments_lexer": "ipython3",
      "version": "3.11.6"
    },
    "colab": {
      "provenance": []
    }
  },
  "nbformat": 4,
  "nbformat_minor": 0
}