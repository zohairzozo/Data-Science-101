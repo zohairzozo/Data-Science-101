{
  "nbformat": 4,
  "nbformat_minor": 0,
  "metadata": {
    "colab": {
      "provenance": [],
      "collapsed_sections": [
        "4qiJmRrypRYs",
        "Sic9khTypUkW",
        "SSkxDYMSgWVY",
        "qSLLBlZmlAxj",
        "W4-yS4m1em0U"
      ]
    },
    "kernelspec": {
      "name": "python3",
      "display_name": "Python 3"
    },
    "language_info": {
      "name": "python"
    }
  },
  "cells": [
    {
      "cell_type": "markdown",
      "source": [
        "# Lecture 7- part1\n"
      ],
      "metadata": {
        "id": "b3MKcXz6ojFC"
      }
    },
    {
      "cell_type": "code",
      "source": [
        "import pandas as pd\n",
        "import numpy as np\n",
        "import matplotlib.pyplot as plt\n",
        "import seaborn as sns"
      ],
      "metadata": {
        "id": "ovlTFCxyolFk"
      },
      "execution_count": null,
      "outputs": []
    },
    {
      "cell_type": "code",
      "source": [
        "housing = pd.read_csv(\"/content/sample_data/california_housing_test.csv\")"
      ],
      "metadata": {
        "id": "Wy1WlDBopx_s"
      },
      "execution_count": null,
      "outputs": []
    },
    {
      "cell_type": "code",
      "source": [
        "housing.shape"
      ],
      "metadata": {
        "id": "EGiG5wFqqEr6"
      },
      "execution_count": null,
      "outputs": []
    },
    {
      "cell_type": "code",
      "source": [
        "housing.head(10)"
      ],
      "metadata": {
        "id": "ihImNEauqkbG"
      },
      "execution_count": null,
      "outputs": []
    },
    {
      "cell_type": "code",
      "source": [
        "# Statistics hamesha numeric data pe lagti hai\n",
        "\n",
        "housing.describe()"
      ],
      "metadata": {
        "id": "2n-QnhbZq1PP"
      },
      "execution_count": null,
      "outputs": []
    },
    {
      "cell_type": "code",
      "source": [
        "housing['total_rooms'].describe()"
      ],
      "metadata": {
        "id": "ALxliZK4rJQq"
      },
      "execution_count": null,
      "outputs": []
    },
    {
      "cell_type": "code",
      "source": [
        "housing[\"total_rooms\"].var()"
      ],
      "metadata": {
        "id": "g6dvOWhzrqL-"
      },
      "execution_count": null,
      "outputs": []
    },
    {
      "cell_type": "code",
      "source": [
        "np.sqrt(4646582.611348667)"
      ],
      "metadata": {
        "id": "-dzT1or7sMJp"
      },
      "execution_count": null,
      "outputs": []
    },
    {
      "cell_type": "code",
      "source": [
        "housing[\"total_rooms\"].mode()"
      ],
      "metadata": {
        "id": "oxzh1qcysbG5"
      },
      "execution_count": null,
      "outputs": []
    },
    {
      "cell_type": "code",
      "source": [
        "housing[\"total_rooms\"].median()"
      ],
      "metadata": {
        "id": "SfA0mgvHs096"
      },
      "execution_count": null,
      "outputs": []
    },
    {
      "cell_type": "code",
      "source": [
        "housing.isnull().sum() #agr null values hongi then ham unko stats use karke impute karenge"
      ],
      "metadata": {
        "id": "DQM5tID3s9wW"
      },
      "execution_count": null,
      "outputs": []
    },
    {
      "cell_type": "code",
      "source": [
        "housing.info()"
      ],
      "metadata": {
        "id": "bJJ5LFO6tEto"
      },
      "execution_count": null,
      "outputs": []
    },
    {
      "cell_type": "code",
      "source": [
        "housing.dtypes"
      ],
      "metadata": {
        "id": "UmszaNTTz3aO"
      },
      "execution_count": null,
      "outputs": []
    },
    {
      "cell_type": "code",
      "source": [
        "housing = housing.rename(columns={\"population\": \"pop\"})"
      ],
      "metadata": {
        "id": "c21bs6QH0_CK"
      },
      "execution_count": null,
      "outputs": []
    },
    {
      "cell_type": "code",
      "source": [
        "housing.head(10)"
      ],
      "metadata": {
        "id": "CoygFikr0c5J"
      },
      "execution_count": null,
      "outputs": []
    },
    {
      "cell_type": "code",
      "source": [],
      "metadata": {
        "id": "FXhyA9ao0f9g"
      },
      "execution_count": null,
      "outputs": []
    },
    {
      "cell_type": "markdown",
      "source": [
        "# Lecture 7-Part2"
      ],
      "metadata": {
        "id": "WwxYj-9912Qs"
      }
    },
    {
      "cell_type": "code",
      "source": [
        "#Basic 4 libraries\n",
        "import pandas as pd\n",
        "import numpy as np\n",
        "import matplotlib.pyplot as plt\n",
        "import seaborn as sns"
      ],
      "metadata": {
        "id": "xQ0nua-n165u"
      },
      "execution_count": null,
      "outputs": []
    },
    {
      "cell_type": "code",
      "source": [
        "sns.get_dataset_names()"
      ],
      "metadata": {
        "id": "Rg3sFj232V9l"
      },
      "execution_count": null,
      "outputs": []
    },
    {
      "cell_type": "code",
      "source": [
        "tips = sns.load_dataset('tips')\n",
        "tips.head(5)"
      ],
      "metadata": {
        "id": "rLutygzO2lcT"
      },
      "execution_count": null,
      "outputs": []
    },
    {
      "cell_type": "code",
      "source": [
        "tips.shape"
      ],
      "metadata": {
        "id": "QK359K8ky2d8"
      },
      "execution_count": null,
      "outputs": []
    },
    {
      "cell_type": "code",
      "source": [
        "tips[\"day\"].value_counts()"
      ],
      "metadata": {
        "id": "d3SX81wM21f4"
      },
      "execution_count": null,
      "outputs": []
    },
    {
      "cell_type": "code",
      "source": [
        "tips[\"time\"].value_counts()"
      ],
      "metadata": {
        "id": "PlPkESiq4B62"
      },
      "execution_count": null,
      "outputs": []
    },
    {
      "cell_type": "code",
      "source": [
        "tips.info()"
      ],
      "metadata": {
        "id": "n3McuWEd4rpx"
      },
      "execution_count": null,
      "outputs": []
    },
    {
      "cell_type": "code",
      "source": [
        "tips.describe()"
      ],
      "metadata": {
        "id": "wckKwZRW4ui_"
      },
      "execution_count": null,
      "outputs": []
    },
    {
      "cell_type": "code",
      "source": [
        "tips.isnull().sum()"
      ],
      "metadata": {
        "id": "fuZolZCo57cn"
      },
      "execution_count": null,
      "outputs": []
    },
    {
      "cell_type": "code",
      "source": [
        "tips.dropna()"
      ],
      "metadata": {
        "id": "rlG58YGs6k5C"
      },
      "execution_count": null,
      "outputs": []
    },
    {
      "cell_type": "code",
      "source": [
        "tips[\"time\"] = tips[\"time\"].astype(\"object\")"
      ],
      "metadata": {
        "id": "HscnvCaZ7KdU"
      },
      "execution_count": null,
      "outputs": []
    },
    {
      "cell_type": "code",
      "source": [
        "tips.dtypes"
      ],
      "metadata": {
        "id": "9tSWnT8f7WrA"
      },
      "execution_count": null,
      "outputs": []
    },
    {
      "cell_type": "code",
      "source": [
        "tips = tips.rename(columns={\"sex\": \"gender\"})"
      ],
      "metadata": {
        "id": "NoCYDRZC7kQg"
      },
      "execution_count": null,
      "outputs": []
    },
    {
      "cell_type": "code",
      "source": [
        "tips.columns"
      ],
      "metadata": {
        "id": "6-NvdZLt8DFq"
      },
      "execution_count": null,
      "outputs": []
    },
    {
      "cell_type": "code",
      "source": [
        "# prompt: Select data for only tips less than 5\n",
        "\n",
        "tips = tips[tips['tip'] < 5]"
      ],
      "metadata": {
        "id": "c0t7T3ja8RWf"
      },
      "execution_count": null,
      "outputs": []
    },
    {
      "cell_type": "code",
      "source": [
        "tips.shape"
      ],
      "metadata": {
        "id": "e_gnXrm78h5A"
      },
      "execution_count": null,
      "outputs": []
    },
    {
      "cell_type": "code",
      "source": [
        "tips_1 = tips[[\"total_bill\", \"tip\", \"size\"]]"
      ],
      "metadata": {
        "id": "ser5L1Fk21mz"
      },
      "execution_count": null,
      "outputs": []
    },
    {
      "cell_type": "code",
      "source": [
        "correlation_matrix = tips_1.corr()\n",
        "correlation_matrix"
      ],
      "metadata": {
        "id": "j-YxUkrq9Z6w"
      },
      "execution_count": null,
      "outputs": []
    },
    {
      "cell_type": "code",
      "source": [
        "# prompt: Using dataframe correlation_matrix: heat plot\n",
        "\n",
        "import matplotlib.pyplot as plt\n",
        "import seaborn as sns\n",
        "\n",
        "# Create the heatmap\n",
        "plt.figure(figsize=(6, 4))\n",
        "sns.heatmap(correlation_matrix, annot=True, cmap='viridis', fmt=\".2f\")\n",
        "plt.title('Correlation Matrix Heatmap')\n",
        "plt.show()"
      ],
      "metadata": {
        "id": "tyhd05tC-bM_"
      },
      "execution_count": null,
      "outputs": []
    },
    {
      "cell_type": "code",
      "source": [
        "# prompt: line chart with seaborn for total bills and tips\n",
        "plt.figure(figsize=(10, 6))\n",
        "sns.barplot(x='total_bill', y='tip', data=tips)\n",
        "plt.title('Total Bill vs. Tip')\n",
        "plt.xlabel('Total Bill')\n",
        "plt.ylabel('Tip')\n",
        "plt.show()"
      ],
      "metadata": {
        "id": "Nq0joQCT9lYo"
      },
      "execution_count": null,
      "outputs": []
    },
    {
      "cell_type": "code",
      "source": [
        "sns.scatterplot(x='total_bill', y='tip', data=tips)\n",
        "plt.title('Total Bill vs. Tip')\n",
        "plt.xlabel('Total Bill')\n",
        "plt.ylabel('Tip')\n",
        "plt.show()"
      ],
      "metadata": {
        "id": "BzIhCEqiCR-z"
      },
      "execution_count": null,
      "outputs": []
    },
    {
      "cell_type": "code",
      "source": [
        "sns.barplot(x='day', y='total_bill', data=tips)\n",
        "plt.title('Day vs. Total Bill')\n",
        "plt.xlabel('Day')\n",
        "plt.ylabel('Total Bill')\n",
        "plt.show()"
      ],
      "metadata": {
        "id": "rOr6t4CyCW5q"
      },
      "execution_count": null,
      "outputs": []
    },
    {
      "cell_type": "code",
      "source": [
        "sns.violinplot(x='time', y='total_bill', data=tips)\n",
        "plt.title('Day vs. Total Bill')\n",
        "plt.xlabel('Day')\n",
        "plt.ylabel('Total Bill')\n",
        "plt.show()"
      ],
      "metadata": {
        "id": "VtHqJHfMCbya"
      },
      "execution_count": null,
      "outputs": []
    },
    {
      "cell_type": "code",
      "source": [
        "sns.boxenplot(x='gender', y='total_bill', data=tips)\n",
        "plt.title('Day vs. Total Bill')\n",
        "plt.xlabel('Day')\n",
        "plt.ylabel('Total Bill')\n",
        "plt.show()"
      ],
      "metadata": {
        "id": "yK5-9V1DCj0C"
      },
      "execution_count": null,
      "outputs": []
    },
    {
      "cell_type": "code",
      "source": [
        "#Buisness Interpretation"
      ],
      "metadata": {
        "id": "PnO8dP01CuhE"
      },
      "execution_count": null,
      "outputs": []
    }
  ]
}