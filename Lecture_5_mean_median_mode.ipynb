{
  "cells": [
    {
      "cell_type": "markdown",
      "metadata": {
        "id": "7PUdc-7OzrNP"
      },
      "source": [
        "# Statistics\n",
        "### Mean, Median & Mode"
      ]
    },
    {
      "cell_type": "code",
      "execution_count": null,
      "metadata": {
        "id": "R5p42ewlzrNS"
      },
      "outputs": [],
      "source": [
        "import pandas as pd\n",
        "import seaborn as sns\n",
        "import numpy as np\n",
        "import matplotlib.pyplot as plt\n",
        "import statistics as st"
      ]
    },
    {
      "cell_type": "code",
      "execution_count": null,
      "metadata": {
        "id": "5dNGIt_fzrNU"
      },
      "outputs": [],
      "source": [
        "# readig the dataset\n",
        "df = sns.load_dataset('tips')\n",
        "df.head()"
      ]
    },
    {
      "cell_type": "code",
      "execution_count": null,
      "metadata": {
        "id": "M-D3kZmuzrNW"
      },
      "outputs": [],
      "source": [
        "# describing The dataset\n",
        "df.describe()"
      ]
    },
    {
      "cell_type": "code",
      "execution_count": null,
      "metadata": {
        "id": "hkFtFzq2zrNW"
      },
      "outputs": [],
      "source": [
        "#Mode\n",
        "df.mode(dropna=False)"
      ]
    },
    {
      "cell_type": "code",
      "execution_count": null,
      "metadata": {
        "id": "kw6pGviEzrNX"
      },
      "outputs": [],
      "source": [
        "#median\n",
        "df['total_bill'].median()"
      ]
    },
    {
      "cell_type": "code",
      "execution_count": null,
      "metadata": {
        "id": "d3YSgE5ezrNX"
      },
      "outputs": [],
      "source": [
        "#mean\n",
        "df_new.mean()"
      ]
    },
    {
      "cell_type": "code",
      "source": [
        "df_new = df[['total_bill','tip','size']]"
      ],
      "metadata": {
        "id": "kBFx9xOg2Kki"
      },
      "execution_count": null,
      "outputs": []
    },
    {
      "cell_type": "code",
      "source": [
        "df_new.var()"
      ],
      "metadata": {
        "id": "NwAUTT_r2BA-"
      },
      "execution_count": null,
      "outputs": []
    },
    {
      "cell_type": "code",
      "source": [
        "df_new.std()"
      ],
      "metadata": {
        "id": "wIi3iV2i2Gdn"
      },
      "execution_count": null,
      "outputs": []
    }
  ],
  "metadata": {
    "kernelspec": {
      "display_name": "Python 3.10.2 64-bit",
      "language": "python",
      "name": "python3"
    },
    "language_info": {
      "codemirror_mode": {
        "name": "ipython",
        "version": 3
      },
      "file_extension": ".py",
      "mimetype": "text/x-python",
      "name": "python",
      "nbconvert_exporter": "python",
      "pygments_lexer": "ipython3",
      "version": "3.10.2"
    },
    "orig_nbformat": 4,
    "vscode": {
      "interpreter": {
        "hash": "0e90e6f2b77057d595c19a33564a8832df013bc876605d91583eebe5ceda9acc"
      }
    },
    "colab": {
      "provenance": []
    }
  },
  "nbformat": 4,
  "nbformat_minor": 0
}