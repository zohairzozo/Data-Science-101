{
  "nbformat": 4,
  "nbformat_minor": 0,
  "metadata": {
    "colab": {
      "provenance": []
    },
    "kernelspec": {
      "name": "python3",
      "display_name": "Python 3"
    },
    "language_info": {
      "name": "python"
    }
  },
  "cells": [
    {
      "cell_type": "markdown",
      "source": [
        "# Lecture 1\n",
        "\n",
        "---\n",
        "\n"
      ],
      "metadata": {
        "id": "B6RyZHNLD_OF"
      }
    },
    {
      "cell_type": "code",
      "source": [
        "c"
      ],
      "metadata": {
        "id": "V_xoY_9lEOU4"
      },
      "execution_count": null,
      "outputs": []
    },
    {
      "cell_type": "code",
      "source": [
        "Array = [1, 2, 3 ,4 ,5]"
      ],
      "metadata": {
        "id": "EoRH5UA8EPsp"
      },
      "execution_count": null,
      "outputs": []
    },
    {
      "cell_type": "code",
      "source": [
        "Array[3]"
      ],
      "metadata": {
        "id": "TwH6REz-EVEU"
      },
      "execution_count": null,
      "outputs": []
    },
    {
      "cell_type": "code",
      "source": [
        "tup = tuple(Array)"
      ],
      "metadata": {
        "id": "mbbEqNWqH0pJ"
      },
      "execution_count": null,
      "outputs": []
    },
    {
      "cell_type": "code",
      "source": [
        "tup"
      ],
      "metadata": {
        "id": "kE2c_fBCH7wj"
      },
      "execution_count": null,
      "outputs": []
    },
    {
      "cell_type": "code",
      "source": [
        "tup2 = ('Fahad','Saba','Zohair')\n",
        "tup2"
      ],
      "metadata": {
        "id": "knMqGmIOIDa9"
      },
      "execution_count": null,
      "outputs": []
    },
    {
      "cell_type": "code",
      "source": [
        "tup[0]"
      ],
      "metadata": {
        "id": "86sUpxKBIcr2"
      },
      "execution_count": null,
      "outputs": []
    },
    {
      "cell_type": "code",
      "source": [
        "dictionary = {'Fahad':96,'Ushna':100,'Zohair':85}"
      ],
      "metadata": {
        "id": "fae0HK_NJt6d"
      },
      "execution_count": null,
      "outputs": []
    },
    {
      "cell_type": "code",
      "source": [
        "dictionary"
      ],
      "metadata": {
        "id": "gsL50Q_LJ9cj"
      },
      "execution_count": null,
      "outputs": []
    },
    {
      "cell_type": "markdown",
      "source": [
        "# Lecture 2\n",
        "\n",
        "---\n",
        "\n"
      ],
      "metadata": {
        "id": "0iAT0YAlEbUe"
      }
    },
    {
      "cell_type": "code",
      "source": [
        "2/3"
      ],
      "metadata": {
        "id": "Cbc3IBTNEdyR"
      },
      "execution_count": null,
      "outputs": []
    },
    {
      "cell_type": "code",
      "source": [
        "2*3"
      ],
      "metadata": {
        "id": "hyxpk29hGHJQ"
      },
      "execution_count": null,
      "outputs": []
    },
    {
      "cell_type": "code",
      "source": [
        "Zohair = [1,2,3,4,5]\n",
        "for i, value in enumerate(Zohair):\n",
        "    print(i, value)"
      ],
      "metadata": {
        "id": "xEPJOkcO3lbX"
      },
      "execution_count": null,
      "outputs": []
    },
    {
      "cell_type": "code",
      "source": [
        "f = [100, 99, 95, 97, 102]\n",
        "list(reversed(f))"
      ],
      "metadata": {
        "id": "bCPMzvGA4Zun"
      },
      "execution_count": null,
      "outputs": []
    },
    {
      "cell_type": "code",
      "source": [
        "len(f)"
      ],
      "metadata": {
        "id": "maRZCKX05Jxl"
      },
      "execution_count": null,
      "outputs": []
    },
    {
      "cell_type": "code",
      "source": [
        "def sum_number (a, b):\n",
        "  for i in range(a):\n",
        "    if a>=b:\n",
        "      c = a+b\n",
        "    else:\n",
        "      c = a-b\n",
        "  return print(\"The sum value is:\",c)"
      ],
      "metadata": {
        "id": "hprCIIvN6uwk"
      },
      "execution_count": null,
      "outputs": []
    },
    {
      "cell_type": "code",
      "source": [
        "sum_number(5,6)"
      ],
      "metadata": {
        "id": "ZZ0nNcJN7NXv"
      },
      "execution_count": null,
      "outputs": []
    },
    {
      "cell_type": "code",
      "source": [
        "sum_number(85,100)"
      ],
      "metadata": {
        "id": "_J_pVwis8HYh"
      },
      "execution_count": null,
      "outputs": []
    },
    {
      "cell_type": "code",
      "source": [
        "def Loop (a):\n"
      ],
      "metadata": {
        "id": "YDPFqm9u8ymT"
      },
      "execution_count": null,
      "outputs": []
    },
    {
      "cell_type": "code",
      "source": [
        "a = 1\n",
        "Loop(a)"
      ],
      "metadata": {
        "id": "omUCf65y9NY1"
      },
      "execution_count": null,
      "outputs": []
    },
    {
      "cell_type": "markdown",
      "source": [
        "lambda is a keyword in Python for defining the anonymous function. argument(s) is a placeholder, that is a variable that will be used to hold the value you want to pass into the function expression."
      ],
      "metadata": {
        "id": "pAew4YC4_Ghz"
      }
    },
    {
      "cell_type": "code",
      "source": [
        "number = [6,5,2,3,4,6,1,2]\n",
        "# lambda function\n",
        "squared_numbers = map(lambda x: x**2, number)\n",
        "print(list(squared_numbers))\n"
      ],
      "metadata": {
        "id": "tUQrZmoF87T4"
      },
      "execution_count": null,
      "outputs": []
    },
    {
      "cell_type": "code",
      "source": [
        "type(number)"
      ],
      "metadata": {
        "id": "y8DfvtJJBpze"
      },
      "execution_count": null,
      "outputs": []
    },
    {
      "cell_type": "code",
      "source": [
        "type(squared_numbers)"
      ],
      "metadata": {
        "id": "VZkHkljwA_4i"
      },
      "execution_count": null,
      "outputs": []
    },
    {
      "cell_type": "code",
      "source": [
        "a = 5\n",
        "type(a)"
      ],
      "metadata": {
        "id": "P5LySMghCOli"
      },
      "execution_count": null,
      "outputs": []
    },
    {
      "cell_type": "code",
      "source": [
        "a = float(a*8)"
      ],
      "metadata": {
        "id": "qXQitG3UCasn"
      },
      "execution_count": null,
      "outputs": []
    },
    {
      "cell_type": "code",
      "source": [
        "type(a)"
      ],
      "metadata": {
        "id": "ikybPommCkcd"
      },
      "execution_count": null,
      "outputs": []
    },
    {
      "cell_type": "code",
      "source": [
        "def square(zohair):\n",
        "  for i in zohair:\n",
        "    print(i**2)\n"
      ],
      "metadata": {
        "id": "AwSR_sHUASFR"
      },
      "execution_count": null,
      "outputs": []
    },
    {
      "cell_type": "code",
      "source": [
        "# generator function\n",
        "def my_gen():\n",
        "    yield 'A'\n",
        "    yield 'B'\n",
        "    yield 'C'\n",
        "    yield 'D'\n",
        "\n",
        "# generator object\n",
        "g = my_gen()\n",
        "\n",
        "# print the generator object\n",
        "print(next(g))"
      ],
      "metadata": {
        "id": "TTG5TFXmAj5T"
      },
      "execution_count": null,
      "outputs": []
    },
    {
      "cell_type": "code",
      "source": [
        "print(next(g))"
      ],
      "metadata": {
        "id": "qYnSC4_rDeGi"
      },
      "execution_count": null,
      "outputs": []
    },
    {
      "cell_type": "code",
      "source": [
        "print(next(g))"
      ],
      "metadata": {
        "id": "1c4VvXSIDf14"
      },
      "execution_count": null,
      "outputs": []
    },
    {
      "cell_type": "code",
      "source": [
        "print(next(g))"
      ],
      "metadata": {
        "id": "RaYNN2cgDgzQ"
      },
      "execution_count": null,
      "outputs": []
    }
  ]
}