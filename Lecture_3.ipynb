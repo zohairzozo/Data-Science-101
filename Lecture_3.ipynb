{
  "cells": [
    {
      "cell_type": "markdown",
      "metadata": {
        "id": "DiRxohBXJP_W"
      },
      "source": [
        "Pandas"
      ]
    },
    {
      "cell_type": "code",
      "execution_count": null,
      "metadata": {
        "id": "-StXvoqyFgLD"
      },
      "outputs": [],
      "source": [
        "import pandas as pd"
      ]
    },
    {
      "cell_type": "code",
      "execution_count": null,
      "metadata": {
        "id": "a6MH-LYyGosG"
      },
      "outputs": [],
      "source": [
        "df = pd.read_csv('city.csv')"
      ]
    },
    {
      "cell_type": "code",
      "execution_count": null,
      "metadata": {
        "id": "_6r8h_Z1HDT_"
      },
      "outputs": [],
      "source": [
        "df.head(5)"
      ]
    },
    {
      "cell_type": "code",
      "execution_count": null,
      "metadata": {
        "id": "FxOMNITGIWo0"
      },
      "outputs": [],
      "source": [
        "df.dtypes"
      ]
    },
    {
      "cell_type": "code",
      "execution_count": null,
      "metadata": {
        "id": "msWx1D6xIoG1"
      },
      "outputs": [],
      "source": [
        "df['id'] = df['id'].astype('float64')"
      ]
    },
    {
      "cell_type": "code",
      "execution_count": null,
      "metadata": {
        "id": "sJurrFCwI7cT"
      },
      "outputs": [],
      "source": [
        "df.dtypes"
      ]
    },
    {
      "cell_type": "code",
      "execution_count": null,
      "metadata": {
        "id": "OpEwTUokJEeo"
      },
      "outputs": [],
      "source": [
        "df.shape"
      ]
    },
    {
      "cell_type": "code",
      "execution_count": null,
      "metadata": {
        "id": "o_tK8Hx-Jwu0"
      },
      "outputs": [],
      "source": [
        "import pandas as pd\n",
        "\n",
        "url = 'https://en.wikipedia.org/wiki/World_population'\n",
        "tables = pd.read_html(url)\n",
        "\n",
        "len(tables)\n",
        "\n",
        "df = tables[5]\n",
        "df.head()"
      ]
    },
    {
      "cell_type": "code",
      "execution_count": null,
      "metadata": {
        "id": "8XmthcAdMor0"
      },
      "outputs": [],
      "source": [
        "df_new = df['id']<25"
      ]
    },
    {
      "cell_type": "code",
      "execution_count": null,
      "metadata": {
        "id": "_LHH4JG3NCpo"
      },
      "outputs": [],
      "source": [
        "df_new.shape"
      ]
    },
    {
      "cell_type": "code",
      "execution_count": null,
      "metadata": {
        "id": "vf_IzCjvLR6q"
      },
      "outputs": [],
      "source": [
        "type(tables)"
      ]
    },
    {
      "cell_type": "code",
      "execution_count": null,
      "metadata": {
        "id": "Ntg-uY9ANiG_"
      },
      "outputs": [],
      "source": [
        "df_new = df[df['id'] < 25]\n",
        "df_new.shape"
      ]
    },
    {
      "cell_type": "markdown",
      "source": [
        "# Extra"
      ],
      "metadata": {
        "id": "ITnNDpK3l8x_"
      }
    },
    {
      "cell_type": "code",
      "source": [
        "pip install ydata-profiling"
      ],
      "metadata": {
        "collapsed": true,
        "id": "aWshz2tLlRHx"
      },
      "execution_count": null,
      "outputs": []
    },
    {
      "cell_type": "code",
      "execution_count": null,
      "metadata": {
        "id": "7QHNjpLa2ssg"
      },
      "outputs": [],
      "source": [
        "import pandas as pd\n",
        "import numpy as np\n",
        "from ydata_profiling import ProfileReport\n",
        "# import tqdm as notebook_tqdm\n",
        "# load the data\n",
        "df = pd.read_excel(\"./dataframes/titanic_df.xlsx\")\n",
        "profile = ProfileReport(df, title=\"Titnaic Profiling Report\")\n",
        "profile.to_file(\"./ydataprofile_reports/01_titanic_report.html\")"
      ]
    },
    {
      "cell_type": "code",
      "execution_count": null,
      "metadata": {
        "collapsed": true,
        "id": "fhgfARRI2ylq"
      },
      "outputs": [],
      "source": [
        "pip install dataprep"
      ]
    },
    {
      "cell_type": "code",
      "execution_count": null,
      "metadata": {
        "id": "sqEyz1Xt26ZT"
      },
      "outputs": [],
      "source": [
        "from dataprep.datasets import load_dataset\n",
        "from dataprep.eda import create_report\n",
        "df = load_dataset(\"titanic\")\n",
        "create_report(df).show_browser()"
      ]
    },
    {
      "cell_type": "markdown",
      "metadata": {
        "id": "3t1lBJx1JVNu"
      },
      "source": [
        "Seaborn"
      ]
    },
    {
      "cell_type": "code",
      "execution_count": null,
      "metadata": {
        "id": "5Pad_BYsJJFf"
      },
      "outputs": [],
      "source": [
        "# prompt: built in datasets of seaborn\n",
        "\n",
        "import seaborn as sns\n",
        "print(sns.get_dataset_names())"
      ]
    }
  ],
  "metadata": {
    "colab": {
      "provenance": [],
      "collapsed_sections": [
        "ITnNDpK3l8x_"
      ]
    },
    "kernelspec": {
      "display_name": "Python 3",
      "name": "python3"
    },
    "language_info": {
      "name": "python"
    }
  },
  "nbformat": 4,
  "nbformat_minor": 0
}